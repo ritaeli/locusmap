{
  "nbformat": 4,
  "nbformat_minor": 0,
  "metadata": {
    "colab": {
      "provenance": []
    },
    "kernelspec": {
      "name": "python3",
      "display_name": "Python 3"
    },
    "language_info": {
      "name": "python"
    }
  },
  "cells": [
    {
      "cell_type": "code",
      "source": [
        "from dash import Dash, html, dcc, Input, Output, callback\n",
        "import dash_bio as dashbio\n",
        "\n",
        "# List of genes with associated locus and pathology info\n",
        "genes_info = {\n",
        "    'FBN1': {\n",
        "        'chromosome': '15',\n",
        "        'locus': '15q21',\n",
        "        'start': 48400000,\n",
        "        'end': 48800000,\n",
        "        'color': 'red',\n",
        "        'pathology': {\n",
        "            'title': 'Syndrome de Marfan',\n",
        "            'definition': \"Le syndrome de Marfan est une maladie génétique qui affecte le tissu conjonctif.\",\n",
        "            'prevalence': \"Rare, environ 1 personne sur 5000.\",\n",
        "            'symptoms_general': \"Symptômes cardiovasculaires, oculaires et squelettiques.\",\n",
        "            'symptoms_oral': \"Palais ogival, dents encombrées.\",\n",
        "            'medical_management': \"Suivi cardiaque, prévention des complications.\",\n",
        "            'dental_management': \"Prévention des infections buccales et soins orthodontiques.\"\n",
        "        }\n",
        "    },\n",
        "    # You can add more genes here in the same format as FBN1\n",
        "}\n",
        "\n",
        "# Create the Dash app\n",
        "app = Dash(__name__)\n",
        "\n",
        "app.layout = html.Div([\n",
        "    'Select which chromosomes to display on the ideogram below:',\n",
        "    dcc.Dropdown(\n",
        "        id='my-default-displayed-chromosomes',\n",
        "        options=[{'label': str(i), 'value': str(i)} for i in range(1, 23)] + [{'label': 'X', 'value': 'X'}, {'label': 'Y', 'value': 'Y'}],\n",
        "        multi=True,\n",
        "        value=[str(i) for i in range(1, 23)] + ['X', 'Y']  # Default selection: All chromosomes\n",
        "    ),\n",
        "\n",
        "    dashbio.Ideogram(\n",
        "        id='my-default-dashbio-ideogram',\n",
        "        chromosomes=[str(i) for i in range(1, 23)] + ['X', 'Y'],  # Display all chromosomes by default\n",
        "        annotations=[{\n",
        "            'name': gene,\n",
        "            'chr': info['chromosome'],\n",
        "            'start': info['start'],\n",
        "            'stop': info['end'],\n",
        "            'color': info['color']\n",
        "        } for gene, info in genes_info.items()]\n",
        "    ),\n",
        "\n",
        "    dcc.Dropdown(\n",
        "        id='gene-dropdown',\n",
        "        options=[{'label': gene, 'value': gene} for gene in genes_info.keys()],\n",
        "        value='FBN1',  # Default gene selection (can be changed)\n",
        "        placeholder=\"Select a gene\"\n",
        "    ),\n",
        "\n",
        "    html.Div(id='gene-info')\n",
        "])\n",
        "\n",
        "# Update gene information based on dropdown selection\n",
        "@callback(\n",
        "    Output('gene-info', 'children'),\n",
        "    Input('gene-dropdown', 'value')\n",
        ")\n",
        "def display_gene_info(selected_gene):\n",
        "    if selected_gene:\n",
        "        gene = genes_info[selected_gene]\n",
        "        pathology = gene['pathology']\n",
        "        return html.Div([\n",
        "            html.H2(pathology['title']),\n",
        "            html.P(f\"Locus: {gene['locus']}\"),\n",
        "            html.P(f\"Definition: {pathology['definition']}\"),\n",
        "            html.P(f\"Prevalence: {pathology['prevalence']}\"),\n",
        "            html.P(f\"General Symptoms: {pathology['symptoms_general']}\"),\n",
        "            html.P(f\"Oral Symptoms: {pathology['symptoms_oral']}\"),\n",
        "            html.P(f\"Medical Management: {pathology['medical_management']}\"),\n",
        "            html.P(f\"Dental Management: {pathology['dental_management']}\")\n",
        "        ])\n",
        "    return \"Select a gene to view pathology information.\"\n",
        "\n",
        "if __name__ == '__main__':\n",
        "    app.run_server(debug=True)\n"
      ],
      "metadata": {
        "colab": {
          "base_uri": "https://localhost:8080/",
          "height": 671
        },
        "id": "3vAncKCFudIW",
        "outputId": "d04905c3-9b8d-4dc9-e696-d653c3db1e8b"
      },
      "execution_count": 1,
      "outputs": [
        {
          "output_type": "display_data",
          "data": {
            "text/plain": [
              "<IPython.core.display.Javascript object>"
            ],
            "application/javascript": [
              "(async (port, path, width, height, cache, element) => {\n",
              "    if (!google.colab.kernel.accessAllowed && !cache) {\n",
              "      return;\n",
              "    }\n",
              "    element.appendChild(document.createTextNode(''));\n",
              "    const url = await google.colab.kernel.proxyPort(port, {cache});\n",
              "    const iframe = document.createElement('iframe');\n",
              "    iframe.src = new URL(path, url).toString();\n",
              "    iframe.height = height;\n",
              "    iframe.width = width;\n",
              "    iframe.style.border = 0;\n",
              "    iframe.allow = [\n",
              "        'accelerometer',\n",
              "        'autoplay',\n",
              "        'camera',\n",
              "        'clipboard-read',\n",
              "        'clipboard-write',\n",
              "        'gyroscope',\n",
              "        'magnetometer',\n",
              "        'microphone',\n",
              "        'serial',\n",
              "        'usb',\n",
              "        'xr-spatial-tracking',\n",
              "    ].join('; ');\n",
              "    element.appendChild(iframe);\n",
              "  })(8050, \"/\", \"100%\", 650, false, window.element)"
            ]
          },
          "metadata": {}
        }
      ]
    }
  ]
}